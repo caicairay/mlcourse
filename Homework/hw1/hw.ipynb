{
 "cells": [
  {
   "cell_type": "markdown",
   "metadata": {},
   "source": [
    "# 2. Mathematical Fundamentals"
   ]
  },
  {
   "cell_type": "markdown",
   "metadata": {},
   "source": [
    "## 2.1 Probability"
   ]
  },
  {
   "cell_type": "markdown",
   "metadata": {},
   "source": [
    "### 1.\n",
    "$\\mathbb{E}[||\\boldsymbol{x}||_2^2] = ||\\boldsymbol{\\mu}||_2^2 + \\text{trace}(\\boldsymbol{\\Sigma})$\n",
    "\n",
    "$ Var(X) =\\mathbb{E}(X^2)-(\\mathbb{E}(X))^2$\n",
    "\n",
    "x-y has mean 0, and variance $\\boldsymbol{\\Sigma}$"
   ]
  },
  {
   "cell_type": "markdown",
   "metadata": {},
   "source": [
    "### 2.\n",
    "$Y=A+BX$\n",
    "\n",
    "$\\mathbb{E}(Y)=A+B\\boldsymbol{\\mu}$\n",
    "\n",
    "$Var(Y)=B \\boldsymbol{\\Sigma} B^T$"
   ]
  },
  {
   "cell_type": "markdown",
   "metadata": {},
   "source": [
    "## 2.2 Linear Algegra"
   ]
  },
  {
   "cell_type": "markdown",
   "metadata": {},
   "source": [
    "### 1.\n",
    "The rank of a matrix is defined as (a) the maximum number of linearly independent column vectors in the matrix or (b) the maximum number of linearly independent row vectors in the matrix. Both definitions are equivalent.\n",
    "\n",
    "ref : http://www2.math.uconn.edu/~troby/math2210f16/LT/sec4_3.pdf\n",
    "\n",
    "Thus, $S_A$ has dimension of $d-k$. Since $k$ of them has trivial solution."
   ]
  },
  {
   "cell_type": "markdown",
   "metadata": {},
   "source": [
    "### 2.\n",
    "$x^*$ is the projection from $d$ dimensional vector to $k$ dimensional space\n",
    "\n",
    "$A=\n",
    "\\begin{bmatrix}\n",
    " v_1 &\n",
    " v_2 &\n",
    " \\cdots &\n",
    " v_k\n",
    " \\end{bmatrix} $\n",
    "\n",
    "$ x^* = A^T \\omega$\n",
    "\n",
    "$ M = A(A^T A)^{-1}A^T$\n",
    "\n"
   ]
  },
  {
   "cell_type": "markdown",
   "metadata": {},
   "source": [
    "# 3. Linear Regression"
   ]
  },
  {
   "cell_type": "markdown",
   "metadata": {},
   "source": [
    "## 3.5 Ridge Regression"
   ]
  },
  {
   "cell_type": "markdown",
   "metadata": {},
   "source": [
    "### 4 & 5.\n",
    "Since add large B equivalent to give a higher weighting at first term (non-regularization term) of cost function, \n",
    "equivalent to shrink lambda"
   ]
  },
  {
   "cell_type": "code",
   "execution_count": null,
   "metadata": {},
   "outputs": [],
   "source": []
  }
 ],
 "metadata": {
  "kernelspec": {
   "display_name": "Python [conda env:py37_astropy]",
   "language": "python",
   "name": "conda-env-py37_astropy-py"
  },
  "language_info": {
   "codemirror_mode": {
    "name": "ipython",
    "version": 3
   },
   "file_extension": ".py",
   "mimetype": "text/x-python",
   "name": "python",
   "nbconvert_exporter": "python",
   "pygments_lexer": "ipython3",
   "version": "3.7.3"
  }
 },
 "nbformat": 4,
 "nbformat_minor": 2
}
